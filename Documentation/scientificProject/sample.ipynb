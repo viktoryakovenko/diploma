{
 "cells": [
  {
   "metadata": {},
   "cell_type": "markdown",
   "source": [
    "Формула дискримінанта квадратного рівняння має вигляд:\n",
    "\n",
    "$$\n",
    "D = b^2 - 4ac\n",
    "$$\n",
    "\n",
    "\n",
    "Де:\n",
    "- D — дискримінант,\n",
    "- a, b, c — коефіцієнти квадратного рівняння $ax^2 + bx + c = 0$."
   ],
   "id": "8a77807f92f26ee"
  },
  {
   "metadata": {
    "ExecuteTime": {
     "end_time": "2024-10-17T16:17:35.449816Z",
     "start_time": "2024-10-17T16:17:35.445290Z"
    }
   },
   "cell_type": "code",
   "source": "print(\"Hello World!\")\n",
   "id": "fbc121e30a2defb3",
   "outputs": [
    {
     "name": "stdout",
     "output_type": "stream",
     "text": [
      "Hello World!\n"
     ]
    }
   ],
   "execution_count": 1
  },
  {
   "metadata": {
    "ExecuteTime": {
     "end_time": "2024-10-17T16:28:29.666Z",
     "start_time": "2024-10-17T16:28:29.662333Z"
    }
   },
   "cell_type": "code",
   "source": [
    "def fib(n):\n",
    "    a, b = 0, 1\n",
    "    while a < n:\n",
    "        print(a, end=' ')\n",
    "        a, b = b, a+b\n",
    "    print()\n",
    "fib(1000)"
   ],
   "id": "7f7f448cbb186f33",
   "outputs": [
    {
     "name": "stdout",
     "output_type": "stream",
     "text": [
      "0 1 1 2 3 5 8 13 21 34 55 89 144 233 377 610 987 \n"
     ]
    }
   ],
   "execution_count": 2
  }
 ],
 "metadata": {
  "kernelspec": {
   "display_name": "Python 3",
   "language": "python",
   "name": "python3"
  },
  "language_info": {
   "codemirror_mode": {
    "name": "ipython",
    "version": 2
   },
   "file_extension": ".py",
   "mimetype": "text/x-python",
   "name": "python",
   "nbconvert_exporter": "python",
   "pygments_lexer": "ipython2",
   "version": "2.7.6"
  }
 },
 "nbformat": 4,
 "nbformat_minor": 5
}
